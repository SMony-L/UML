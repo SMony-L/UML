{
 "cells": [
  {
   "cell_type": "code",
   "execution_count": 1,
   "metadata": {},
   "outputs": [
    {
     "name": "stderr",
     "output_type": "stream",
     "text": [
      "Using TensorFlow backend.\n"
     ]
    }
   ],
   "source": [
    "#import the libraries\n",
    "import pandas as pd\n",
    "from sklearn.metrics import r2_score\n",
    "import tensorflow as tf\n",
    "from tensorflow import keras\n",
    "from keras import Sequential\n",
    "import numpy as np\n",
    "from sklearn.datasets import load_boston\n",
    "import matplotlib.pyplot as plt"
   ]
  },
  {
   "cell_type": "code",
   "execution_count": 2,
   "metadata": {},
   "outputs": [
    {
     "name": "stdout",
     "output_type": "stream",
     "text": [
      "[7.8750e-02 4.5000e+01 3.4400e+00 0.0000e+00 4.3700e-01 6.7820e+00\n",
      " 4.1100e+01 3.7886e+00 5.0000e+00 3.9800e+02 1.5200e+01 3.9387e+02\n",
      " 6.6800e+00]\n"
     ]
    }
   ],
   "source": [
    "# get the dataset and shuffle it and split the dataset between train and test\n",
    "boston_housing = keras.datasets.boston_housing\n",
    "(X_train, y_train), (X_test, y_test) = boston_housing.load_data()\n",
    "order = np.argsort(np.random.random(y_train.shape))\n",
    "X_train = X_train[order]\n",
    "y_train = y_train[order]\n",
    "print(X_train[0])"
   ]
  },
  {
   "cell_type": "code",
   "execution_count": 3,
   "metadata": {},
   "outputs": [
    {
     "data": {
      "text/html": [
       "<div>\n",
       "<style scoped>\n",
       "    .dataframe tbody tr th:only-of-type {\n",
       "        vertical-align: middle;\n",
       "    }\n",
       "\n",
       "    .dataframe tbody tr th {\n",
       "        vertical-align: top;\n",
       "    }\n",
       "\n",
       "    .dataframe thead th {\n",
       "        text-align: right;\n",
       "    }\n",
       "</style>\n",
       "<table border=\"1\" class=\"dataframe\">\n",
       "  <thead>\n",
       "    <tr style=\"text-align: right;\">\n",
       "      <th></th>\n",
       "      <th>CRIM</th>\n",
       "      <th>ZN</th>\n",
       "      <th>INDUS</th>\n",
       "      <th>CHAS</th>\n",
       "      <th>NOX</th>\n",
       "      <th>RM</th>\n",
       "      <th>AGE</th>\n",
       "      <th>DIS</th>\n",
       "      <th>RAD</th>\n",
       "      <th>TAX</th>\n",
       "      <th>PTRATIO</th>\n",
       "      <th>B</th>\n",
       "      <th>LSTAT</th>\n",
       "    </tr>\n",
       "  </thead>\n",
       "  <tbody>\n",
       "    <tr>\n",
       "      <th>0</th>\n",
       "      <td>0.07875</td>\n",
       "      <td>45.0</td>\n",
       "      <td>3.44</td>\n",
       "      <td>0.0</td>\n",
       "      <td>0.437</td>\n",
       "      <td>6.782</td>\n",
       "      <td>41.1</td>\n",
       "      <td>3.7886</td>\n",
       "      <td>5.0</td>\n",
       "      <td>398.0</td>\n",
       "      <td>15.2</td>\n",
       "      <td>393.87</td>\n",
       "      <td>6.68</td>\n",
       "    </tr>\n",
       "    <tr>\n",
       "      <th>1</th>\n",
       "      <td>4.55587</td>\n",
       "      <td>0.0</td>\n",
       "      <td>18.10</td>\n",
       "      <td>0.0</td>\n",
       "      <td>0.718</td>\n",
       "      <td>3.561</td>\n",
       "      <td>87.9</td>\n",
       "      <td>1.6132</td>\n",
       "      <td>24.0</td>\n",
       "      <td>666.0</td>\n",
       "      <td>20.2</td>\n",
       "      <td>354.70</td>\n",
       "      <td>7.12</td>\n",
       "    </tr>\n",
       "    <tr>\n",
       "      <th>2</th>\n",
       "      <td>0.09604</td>\n",
       "      <td>40.0</td>\n",
       "      <td>6.41</td>\n",
       "      <td>0.0</td>\n",
       "      <td>0.447</td>\n",
       "      <td>6.854</td>\n",
       "      <td>42.8</td>\n",
       "      <td>4.2673</td>\n",
       "      <td>4.0</td>\n",
       "      <td>254.0</td>\n",
       "      <td>17.6</td>\n",
       "      <td>396.90</td>\n",
       "      <td>2.98</td>\n",
       "    </tr>\n",
       "    <tr>\n",
       "      <th>3</th>\n",
       "      <td>0.01870</td>\n",
       "      <td>85.0</td>\n",
       "      <td>4.15</td>\n",
       "      <td>0.0</td>\n",
       "      <td>0.429</td>\n",
       "      <td>6.516</td>\n",
       "      <td>27.7</td>\n",
       "      <td>8.5353</td>\n",
       "      <td>4.0</td>\n",
       "      <td>351.0</td>\n",
       "      <td>17.9</td>\n",
       "      <td>392.43</td>\n",
       "      <td>6.36</td>\n",
       "    </tr>\n",
       "    <tr>\n",
       "      <th>4</th>\n",
       "      <td>0.52693</td>\n",
       "      <td>0.0</td>\n",
       "      <td>6.20</td>\n",
       "      <td>0.0</td>\n",
       "      <td>0.504</td>\n",
       "      <td>8.725</td>\n",
       "      <td>83.0</td>\n",
       "      <td>2.8944</td>\n",
       "      <td>8.0</td>\n",
       "      <td>307.0</td>\n",
       "      <td>17.4</td>\n",
       "      <td>382.00</td>\n",
       "      <td>4.63</td>\n",
       "    </tr>\n",
       "  </tbody>\n",
       "</table>\n",
       "</div>"
      ],
      "text/plain": [
       "      CRIM    ZN  INDUS  CHAS    NOX     RM   AGE     DIS   RAD    TAX  \\\n",
       "0  0.07875  45.0   3.44   0.0  0.437  6.782  41.1  3.7886   5.0  398.0   \n",
       "1  4.55587   0.0  18.10   0.0  0.718  3.561  87.9  1.6132  24.0  666.0   \n",
       "2  0.09604  40.0   6.41   0.0  0.447  6.854  42.8  4.2673   4.0  254.0   \n",
       "3  0.01870  85.0   4.15   0.0  0.429  6.516  27.7  8.5353   4.0  351.0   \n",
       "4  0.52693   0.0   6.20   0.0  0.504  8.725  83.0  2.8944   8.0  307.0   \n",
       "\n",
       "   PTRATIO       B  LSTAT  \n",
       "0     15.2  393.87   6.68  \n",
       "1     20.2  354.70   7.12  \n",
       "2     17.6  396.90   2.98  \n",
       "3     17.9  392.43   6.36  \n",
       "4     17.4  382.00   4.63  "
      ]
     },
     "execution_count": 3,
     "metadata": {},
     "output_type": "execute_result"
    }
   ],
   "source": [
    "#load the dataset as pandas dataframe and print it\n",
    "column_names = ['CRIM', 'ZN', 'INDUS', 'CHAS', 'NOX', 'RM', 'AGE', 'DIS', 'RAD', 'TAX', 'PTRATIO', 'B', 'LSTAT']\n",
    "features_df = pd.DataFrame(X_train, columns=column_names)\n",
    "features_df.head()"
   ]
  },
  {
   "cell_type": "code",
   "execution_count": 4,
   "metadata": {},
   "outputs": [],
   "source": [
    "#Normalize the data since data as the data ranges varies\n",
    "mean = X_train.mean(axis=0)\n",
    "std = X_train.std(axis=0)\n",
    "X_train = (X_train - mean) / std\n",
    "X_test = (X_test - mean) / std"
   ]
  },
  {
   "cell_type": "code",
   "execution_count": 5,
   "metadata": {},
   "outputs": [],
   "source": [
    "#build model using sequential model. \n",
    "model = tf.keras.models.Sequential()\n",
    "model.add(tf.keras.layers.Dense(50,activation=tf.nn.relu))\n",
    "model.add(tf.keras.layers.Dense(100,activation=tf.nn.relu))\n",
    "model.add(tf.keras.layers.Dense(50,activation=tf.nn.relu))\n",
    "model.add(tf.keras.layers.Dense(1))\n",
    "model.compile(optimizer='adam', loss='mean_squared_error')"
   ]
  },
  {
   "cell_type": "code",
   "execution_count": 6,
   "metadata": {},
   "outputs": [
    {
     "name": "stdout",
     "output_type": "stream",
     "text": [
      "Epoch 1/50\n",
      "404/404 [==============================] - 1s 1ms/step - loss: 563.4002\n",
      "Epoch 2/50\n",
      "404/404 [==============================] - 0s 77us/step - loss: 475.7173\n",
      "Epoch 3/50\n",
      "404/404 [==============================] - 0s 77us/step - loss: 326.3159\n",
      "Epoch 4/50\n",
      "404/404 [==============================] - 0s 116us/step - loss: 143.0382\n",
      "Epoch 5/50\n",
      "404/404 [==============================] - 0s 77us/step - loss: 72.0613\n",
      "Epoch 6/50\n",
      "404/404 [==============================] - 0s 116us/step - loss: 48.8135\n",
      "Epoch 7/50\n",
      "404/404 [==============================] - 0s 77us/step - loss: 35.0079\n",
      "Epoch 8/50\n",
      "404/404 [==============================] - 0s 77us/step - loss: 28.3801\n",
      "Epoch 9/50\n",
      "404/404 [==============================] - 0s 116us/step - loss: 24.9347\n",
      "Epoch 10/50\n",
      "404/404 [==============================] - 0s 77us/step - loss: 22.3995\n",
      "Epoch 11/50\n",
      "404/404 [==============================] - 0s 77us/step - loss: 20.3448\n",
      "Epoch 12/50\n",
      "404/404 [==============================] - 0s 116us/step - loss: 18.8191\n",
      "Epoch 13/50\n",
      "404/404 [==============================] - 0s 77us/step - loss: 17.5863\n",
      "Epoch 14/50\n",
      "404/404 [==============================] - 0s 77us/step - loss: 16.4903\n",
      "Epoch 15/50\n",
      "404/404 [==============================] - 0s 77us/step - loss: 15.8529\n",
      "Epoch 16/50\n",
      "404/404 [==============================] - 0s 77us/step - loss: 15.0691\n",
      "Epoch 17/50\n",
      "404/404 [==============================] - 0s 77us/step - loss: 14.3599\n",
      "Epoch 18/50\n",
      "404/404 [==============================] - 0s 77us/step - loss: 13.6944\n",
      "Epoch 19/50\n",
      "404/404 [==============================] - 0s 77us/step - loss: 13.1495\n",
      "Epoch 20/50\n",
      "404/404 [==============================] - 0s 77us/step - loss: 12.3890\n",
      "Epoch 21/50\n",
      "404/404 [==============================] - 0s 116us/step - loss: 12.0061\n",
      "Epoch 22/50\n",
      "404/404 [==============================] - 0s 77us/step - loss: 11.7262\n",
      "Epoch 23/50\n",
      "404/404 [==============================] - 0s 77us/step - loss: 11.4385\n",
      "Epoch 24/50\n",
      "404/404 [==============================] - 0s 77us/step - loss: 10.8495\n",
      "Epoch 25/50\n",
      "404/404 [==============================] - 0s 77us/step - loss: 10.7407\n",
      "Epoch 26/50\n",
      "404/404 [==============================] - 0s 39us/step - loss: 10.4424\n",
      "Epoch 27/50\n",
      "404/404 [==============================] - 0s 77us/step - loss: 10.2176\n",
      "Epoch 28/50\n",
      "404/404 [==============================] - 0s 39us/step - loss: 9.9114\n",
      "Epoch 29/50\n",
      "404/404 [==============================] - 0s 77us/step - loss: 9.7131\n",
      "Epoch 30/50\n",
      "404/404 [==============================] - 0s 77us/step - loss: 9.5517\n",
      "Epoch 31/50\n",
      "404/404 [==============================] - 0s 77us/step - loss: 9.5710\n",
      "Epoch 32/50\n",
      "404/404 [==============================] - 0s 77us/step - loss: 9.4234\n",
      "Epoch 33/50\n",
      "404/404 [==============================] - 0s 116us/step - loss: 9.6373\n",
      "Epoch 34/50\n",
      "404/404 [==============================] - 0s 77us/step - loss: 9.1249\n",
      "Epoch 35/50\n",
      "404/404 [==============================] - 0s 116us/step - loss: 8.9241\n",
      "Epoch 36/50\n",
      "404/404 [==============================] - 0s 77us/step - loss: 8.5744\n",
      "Epoch 37/50\n",
      "404/404 [==============================] - 0s 77us/step - loss: 8.4599\n",
      "Epoch 38/50\n",
      "404/404 [==============================] - 0s 77us/step - loss: 8.4218\n",
      "Epoch 39/50\n",
      "404/404 [==============================] - 0s 77us/step - loss: 8.2154\n",
      "Epoch 40/50\n",
      "404/404 [==============================] - 0s 77us/step - loss: 8.0760\n",
      "Epoch 41/50\n",
      "404/404 [==============================] - 0s 77us/step - loss: 8.0743\n",
      "Epoch 42/50\n",
      "404/404 [==============================] - 0s 77us/step - loss: 8.2460\n",
      "Epoch 43/50\n",
      "404/404 [==============================] - 0s 39us/step - loss: 8.0192\n",
      "Epoch 44/50\n",
      "404/404 [==============================] - 0s 116us/step - loss: 7.7160\n",
      "Epoch 45/50\n",
      "404/404 [==============================] - 0s 77us/step - loss: 7.5615\n",
      "Epoch 46/50\n",
      "404/404 [==============================] - 0s 77us/step - loss: 7.4255\n",
      "Epoch 47/50\n",
      "404/404 [==============================] - 0s 77us/step - loss: 7.4729\n",
      "Epoch 48/50\n",
      "404/404 [==============================] - 0s 77us/step - loss: 7.4065\n",
      "Epoch 49/50\n",
      "404/404 [==============================] - 0s 116us/step - loss: 7.3342\n",
      "Epoch 50/50\n",
      "404/404 [==============================] - 0s 77us/step - loss: 7.1659\n",
      "102/102 [==============================] - 0s 919us/step\n"
     ]
    }
   ],
   "source": [
    "model.fit(X_train, y_train, epochs=50)\n",
    "val_loss= model.evaluate(X_test,y_test)"
   ]
  },
  {
   "cell_type": "code",
   "execution_count": 7,
   "metadata": {},
   "outputs": [
    {
     "name": "stdout",
     "output_type": "stream",
     "text": [
      "20.150401395909928\n"
     ]
    }
   ],
   "source": [
    "print(val_loss)"
   ]
  },
  {
   "cell_type": "code",
   "execution_count": 8,
   "metadata": {},
   "outputs": [
    {
     "data": {
      "image/png": "[encoded data removed]",
      "text/plain": [
       "<Figure size 432x288 with 1 Axes>"
      ]
     },
     "metadata": {
      "needs_background": "light"
     },
     "output_type": "display_data"
    }
   ],
   "source": [
    "#create scatter plot of true values vs predicted values\n",
    "pred_y = model.predict(X_test).flatten()\n",
    "plt.scatter(y_test, pred_y)\n",
    "plt.xlabel('Real Prices')\n",
    "plt.ylabel('Predicted Prices')\n",
    "plt.title('Real Price Vs. Predicted Price')\n",
    "plt.axis('equal')\n",
    "plt.xlim(plt.xlim())\n",
    "plt.ylim(plt.ylim()) \n",
    "_ = plt.plot([-100, 100], [-100, 100])\n",
    "plt.show()"
   ]
  },
  {
   "cell_type": "code",
   "execution_count": 13,
   "metadata": {},
   "outputs": [],
   "source": [
    "score = r2_score(y_test, pred_y)"
   ]
  },
  {
   "cell_type": "code",
   "execution_count": 14,
   "metadata": {},
   "outputs": [
    {
     "name": "stdout",
     "output_type": "stream",
     "text": [
      "0.7579352445633595\n"
     ]
    }
   ],
   "source": [
    "print (score)"
   ]
  },
  {
   "cell_type": "code",
   "execution_count": null,
   "metadata": {},
   "outputs": [],
   "source": []
  }
 ],
 "metadata": {
  "kernelspec": {
   "display_name": "Python 3",
   "language": "python",
   "name": "python3"
  },
  "language_info": {
   "codemirror_mode": {
    "name": "ipython",
    "version": 3
   },
   "file_extension": ".py",
   "mimetype": "text/x-python",
   "name": "python",
   "nbconvert_exporter": "python",
   "pygments_lexer": "ipython3",
   "version": "3.6.7"
  }
 },
 "nbformat": 4,
 "nbformat_minor": 2
}
